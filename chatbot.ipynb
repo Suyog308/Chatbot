{
 "cells": [
  {
   "cell_type": "code",
   "execution_count": 1,
   "id": "d7098d74-741b-456f-9fcd-a9dfc0011dc9",
   "metadata": {},
   "outputs": [],
   "source": [
    "import nltk\n",
    "import re"
   ]
  },
  {
   "cell_type": "code",
   "execution_count": 2,
   "id": "569a2c4c-a4b9-41d9-9b57-c2c0590bbc35",
   "metadata": {},
   "outputs": [],
   "source": [
    "responses = {\n",
    "    \"hello\": \"Hello! How can I assist you today?\",\n",
    "    \"hi\": \"Hi there! How can I help?\",\n",
    "    \"how are you\": \"I'm just a bot, But I'm doing great! How about you?\",\n",
    "    \"bye\": \"Goodbye! Have a great day!\",\n",
    "    \"thank you\": \"You're welcome! Happy to help.\",\n",
    "    \"help\": \"Sure! You can ask me about general topics like greetings, help, or exit.\"\n",
    "}"
   ]
  },
  {
   "cell_type": "code",
   "execution_count": 3,
   "id": "0219cc2e-67ae-4532-a968-676d8866b51c",
   "metadata": {},
   "outputs": [
    {
     "name": "stdin",
     "output_type": "stream",
     "text": [
      "You:  hi\n"
     ]
    },
    {
     "name": "stdout",
     "output_type": "stream",
     "text": [
      "Bot: Hi there! How can I help?\n"
     ]
    }
   ],
   "source": [
    "def get_response(user_input):\n",
    "    user_input = user_input.lower()\n",
    "    for pattern, response in responses.items():\n",
    "        if re.search(pattern, user_input):\n",
    "            return response\n",
    "    return \"I'm sorry, I don't understand that.\"\n",
    "\n",
    "user_message = input(\"You: \")\n",
    "print(\"Bot:\", get_response(user_message))"
   ]
  },
  {
   "cell_type": "code",
   "execution_count": 4,
   "id": "1a5eb6d1-7ea0-4ca5-9851-6243758e5f9d",
   "metadata": {},
   "outputs": [
    {
     "name": "stdout",
     "output_type": "stream",
     "text": [
      "Chatbot is active! Type 'exit' to stop.\n",
      "\n"
     ]
    },
    {
     "name": "stdin",
     "output_type": "stream",
     "text": [
      "You: hi\n"
     ]
    },
    {
     "name": "stdout",
     "output_type": "stream",
     "text": [
      "Bot: Hi there! How can I help?\n"
     ]
    },
    {
     "name": "stdin",
     "output_type": "stream",
     "text": [
      "You: hello\n"
     ]
    },
    {
     "name": "stdout",
     "output_type": "stream",
     "text": [
      "Bot: Hello! How can I assist you today?\n"
     ]
    },
    {
     "name": "stdin",
     "output_type": "stream",
     "text": [
      "You: exit\n"
     ]
    },
    {
     "name": "stdout",
     "output_type": "stream",
     "text": [
      "Bot: Goodbye! Have a nice day!\n"
     ]
    }
   ],
   "source": [
    "print(\"Chatbot is active! Type 'exit' to stop.\\n\")\n",
    "\n",
    "while True:\n",
    "    user_input = input(\"You:\")\n",
    "    \n",
    "    if user_input.lower() == \"exit\":\n",
    "        print(\"Bot: Goodbye! Have a nice day!\")\n",
    "        break\n",
    "    response = get_response(user_input)\n",
    "    print(\"Bot:\", response)"
   ]
  },
  {
   "cell_type": "code",
   "execution_count": null,
   "id": "f162cb6c-617f-46ba-af59-96d71de7b41b",
   "metadata": {},
   "outputs": [],
   "source": []
  }
 ],
 "metadata": {
  "kernelspec": {
   "display_name": "Python 3 (ipykernel)",
   "language": "python",
   "name": "python3"
  },
  "language_info": {
   "codemirror_mode": {
    "name": "ipython",
    "version": 3
   },
   "file_extension": ".py",
   "mimetype": "text/x-python",
   "name": "python",
   "nbconvert_exporter": "python",
   "pygments_lexer": "ipython3",
   "version": "3.11.5"
  }
 },
 "nbformat": 4,
 "nbformat_minor": 5
}
